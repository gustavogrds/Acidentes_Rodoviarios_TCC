{
  "nbformat": 4,
  "nbformat_minor": 0,
  "metadata": {
    "colab": {
      "name": "Holt-Winters",
      "provenance": [],
      "collapsed_sections": []
    },
    "kernelspec": {
      "name": "python3",
      "display_name": "Python 3"
    },
    "language_info": {
      "name": "python"
    }
  },
  "cells": [
    {
      "cell_type": "code",
      "execution_count": 1,
      "metadata": {
        "colab": {
          "base_uri": "https://localhost:8080/"
        },
        "id": "ZWOK3GrWsQP2",
        "outputId": "33a370d8-fbeb-4ccb-b85b-949f55547313"
      },
      "outputs": [
        {
          "output_type": "stream",
          "name": "stdout",
          "text": [
            "Mounted at /content/drive\n"
          ]
        }
      ],
      "source": [
        "%matplotlib inline\n",
        "import pandas as pd\n",
        "import numpy as np\n",
        "from matplotlib import pyplot\n",
        "from pandas.plotting import autocorrelation_plot\n",
        "from google.colab import drive\n",
        "drive.mount('/content/drive')\n",
        "\n",
        "import warnings\n",
        "warnings.filterwarnings(\"ignore\")\n",
        "\n",
        "# Importar todos as bases de dados (banco de dados de 2021 atualizado e 2022 até fevereiro)\n",
        "\n",
        "df_list = []\n",
        "data = []\n",
        "anos_list = [2007, 2008, 2009, 2010, 2011, 2012, 2013, 2014, 2015, 2016, 2017, 2018, 2019, 2020, 2021, 2022]\n",
        "index_inicial = anos_list[0]\n",
        "index_contador = 0\n",
        "\n",
        "for x in range(len(anos_list)):\n",
        "  concatenate_index = str(anos_list[0] + x)\n",
        "  globals()['df%s' % concatenate_index] = pd.DataFrame(data)\n",
        "\n",
        "  csv_string = \"/content/drive/My Drive/acidentes/por_ocorrencia/datatran\" + str(index_inicial) + \".csv\"\n",
        "  index_inicial = index_inicial + 1\n",
        "  df_list.append(pd.read_csv(csv_string, sep=\";\", encoding=\"latin-1\"))\n",
        "  \n",
        "for df in df_list:\n",
        " locals()[\"df\"+str(anos_list[0] + index_contador)] = df\n",
        " locals()[\"df\"+str(anos_list[0] + index_contador)][\"data_inversa\"] = pd.to_datetime(locals()[\"df\"+str(anos_list[0] + index_contador)][\"data_inversa\"])\n",
        " locals()[\"df\"+str(anos_list[0] + index_contador)] = locals()[\"df\"+str(anos_list[0] + index_contador)].sort_values(by=['data_inversa'])\n",
        " index_contador = index_contador + 1"
      ]
    },
    {
      "cell_type": "code",
      "source": [
        "quantidade_removida = \"Foram removidas \"\n",
        "anos_duplicados = []\n",
        "\n",
        "for i in range(len(anos_list)):\n",
        "  tamanho_inicial = len(locals()[\"df\"+str(anos_list[i])].index)\n",
        "  print(\"Qtd corrências\",str(anos_list[i])+\":\",tamanho_inicial)\n",
        "\n",
        "# Remover dados com o ID duplicado (Não faz sentido um banco de dados por ocorrência possuir o mesmo id)\n",
        "  if locals()[\"df\"+str(anos_list[i])][\"id\"].duplicated().any():\n",
        "    locals()[\"df\"+str(anos_list[i])].drop_duplicates(subset=[\"id\"], inplace=True)\n",
        "    quantidade_removida = quantidade_removida + str(tamanho_inicial-len(locals()[\"df\"+str(anos_list[i])].index)) + \" ocorrências em \" + str(anos_list[i]) + \", \"\n",
        "  print(\"Qtd ocorrências ajustada\",str(anos_list[i])+\":\",len(locals()[\"df\"+str(anos_list[i])].index))\n",
        "  print(\"Dados duplicados removidos em\",str(anos_list[i])+\":\",tamanho_inicial-len(locals()[\"df\"+str(anos_list[i])].index))\n",
        "\n",
        "print(quantidade_removida)"
      ],
      "metadata": {
        "colab": {
          "base_uri": "https://localhost:8080/"
        },
        "id": "wv3ptDkC4AHs",
        "outputId": "cd38fab4-b4b4-4cc5-b132-04b78ff2cde8"
      },
      "execution_count": 2,
      "outputs": [
        {
          "output_type": "stream",
          "name": "stdout",
          "text": [
            "Qtd corrências 2007: 127675\n",
            "Qtd ocorrências ajustada 2007: 127671\n",
            "Dados duplicados removidos em 2007: 4\n",
            "Qtd corrências 2008: 141043\n",
            "Qtd ocorrências ajustada 2008: 141038\n",
            "Dados duplicados removidos em 2008: 5\n",
            "Qtd corrências 2009: 158646\n",
            "Qtd ocorrências ajustada 2009: 158646\n",
            "Dados duplicados removidos em 2009: 0\n",
            "Qtd corrências 2010: 183469\n",
            "Qtd ocorrências ajustada 2010: 183465\n",
            "Dados duplicados removidos em 2010: 4\n",
            "Qtd corrências 2011: 192326\n",
            "Qtd ocorrências ajustada 2011: 192322\n",
            "Dados duplicados removidos em 2011: 4\n",
            "Qtd corrências 2012: 184568\n",
            "Qtd ocorrências ajustada 2012: 184561\n",
            "Dados duplicados removidos em 2012: 7\n",
            "Qtd corrências 2013: 186748\n",
            "Qtd ocorrências ajustada 2013: 186745\n",
            "Dados duplicados removidos em 2013: 3\n",
            "Qtd corrências 2014: 169201\n",
            "Qtd ocorrências ajustada 2014: 169197\n",
            "Dados duplicados removidos em 2014: 4\n",
            "Qtd corrências 2015: 122161\n",
            "Qtd ocorrências ajustada 2015: 122158\n",
            "Dados duplicados removidos em 2015: 3\n",
            "Qtd corrências 2016: 96363\n",
            "Qtd ocorrências ajustada 2016: 96362\n",
            "Dados duplicados removidos em 2016: 1\n",
            "Qtd corrências 2017: 89563\n",
            "Qtd ocorrências ajustada 2017: 89563\n",
            "Dados duplicados removidos em 2017: 0\n",
            "Qtd corrências 2018: 69295\n",
            "Qtd ocorrências ajustada 2018: 69295\n",
            "Dados duplicados removidos em 2018: 0\n",
            "Qtd corrências 2019: 67446\n",
            "Qtd ocorrências ajustada 2019: 67446\n",
            "Dados duplicados removidos em 2019: 0\n",
            "Qtd corrências 2020: 63548\n",
            "Qtd ocorrências ajustada 2020: 63548\n",
            "Dados duplicados removidos em 2020: 0\n",
            "Qtd corrências 2021: 64441\n",
            "Qtd ocorrências ajustada 2021: 64441\n",
            "Dados duplicados removidos em 2021: 0\n",
            "Qtd corrências 2022: 9841\n",
            "Qtd ocorrências ajustada 2022: 9841\n",
            "Dados duplicados removidos em 2022: 0\n",
            "Foram removidas 4 ocorrências em 2007, 5 ocorrências em 2008, 4 ocorrências em 2010, 4 ocorrências em 2011, 7 ocorrências em 2012, 3 ocorrências em 2013, 4 ocorrências em 2014, 3 ocorrências em 2015, 1 ocorrências em 2016, \n"
          ]
        }
      ]
    },
    {
      "cell_type": "code",
      "source": [
        "# Quantidade de Acidentes por dia a cada Ano (banco de dados de 2021 atualizado e 2022 até fevereiro)\n",
        "\n",
        "auxilio_exec = anos_list[0] + len(anos_list) - 1          # Necessário para poder executar o código sem que plataforma reclame de variável não criada\n",
        "\n",
        "for x in range(len(anos_list)):\n",
        "  concatenate_index = str(anos_list[0] + x)\n",
        "  globals()['dfAcidentes%s' % concatenate_index] = pd.DataFrame(data)\n",
        "\n",
        "  locals()[\"dfAcidentes\"+str(anos_list[0] + x)] = locals()[\"df\"+str(anos_list[0] + x)]['data_inversa'].value_counts()\n",
        "  locals()[\"dfAcidentes\"+str(anos_list[0] + x)] = locals()[\"dfAcidentes\"+str(anos_list[0] + x)].to_frame()\n",
        "  locals()[\"dfAcidentes\"+str(anos_list[0] + x)] = locals()[\"dfAcidentes\"+str(anos_list[0] + x)].sort_index()\n",
        "  if anos_list[0] + x >= anos_list[1]:\n",
        "    locals()[\"dfAcidentes\"+str(anos_list[0] + x)] = locals()[\"dfAcidentes\"+str(anos_list[0] + x)].append(locals()[\"dfAcidentes\"+str(anos_list[0] + x - 1)])\n",
        "  elif x == len(anos_list):\n",
        "    locals()[\"dfAcidentes\"+str(anos_list[0] + x)] = locals()[\"dfAcidentes\"+str(anos_list[0] + x)].dropna()\n",
        "\n",
        "locals()['dfAcidentes%s' % auxilio_exec]        # Em nosso caso específico, essa variável também pode ser escrita como dfAcidentes2022\n",
        "\n",
        "# Transformar em valores mensais utilizando o somatório\n",
        "df2022AcidentesM = locals()[\"dfAcidentes2022\"].resample(rule='M').sum()\n",
        "#df2022AcidentesM = df2022AcidentesM.reset_index(level=0)\n",
        "df2022AcidentesM = df2022AcidentesM.rename(columns={\"index\": \"Date\", \"data_inversa\": \"Acidentes\"})\n",
        "df2022AcidentesM"
      ],
      "metadata": {
        "colab": {
          "base_uri": "https://localhost:8080/",
          "height": 424
        },
        "id": "mjYfvsJ9semT",
        "outputId": "6113a3c1-b7bb-4858-d9c0-1a54fb2ed608"
      },
      "execution_count": 3,
      "outputs": [
        {
          "output_type": "execute_result",
          "data": {
            "text/plain": [
              "            Acidentes\n",
              "2007-01-31      10611\n",
              "2007-02-28       9624\n",
              "2007-03-31       9997\n",
              "2007-04-30      10191\n",
              "2007-05-31      10489\n",
              "...               ...\n",
              "2021-10-31       5756\n",
              "2021-11-30       5084\n",
              "2021-12-31       5802\n",
              "2022-01-31       5018\n",
              "2022-02-28       4823\n",
              "\n",
              "[182 rows x 1 columns]"
            ],
            "text/html": [
              "\n",
              "  <div id=\"df-7eb42ea9-0f47-4a60-a57c-648a25f50d64\">\n",
              "    <div class=\"colab-df-container\">\n",
              "      <div>\n",
              "<style scoped>\n",
              "    .dataframe tbody tr th:only-of-type {\n",
              "        vertical-align: middle;\n",
              "    }\n",
              "\n",
              "    .dataframe tbody tr th {\n",
              "        vertical-align: top;\n",
              "    }\n",
              "\n",
              "    .dataframe thead th {\n",
              "        text-align: right;\n",
              "    }\n",
              "</style>\n",
              "<table border=\"1\" class=\"dataframe\">\n",
              "  <thead>\n",
              "    <tr style=\"text-align: right;\">\n",
              "      <th></th>\n",
              "      <th>Acidentes</th>\n",
              "    </tr>\n",
              "  </thead>\n",
              "  <tbody>\n",
              "    <tr>\n",
              "      <th>2007-01-31</th>\n",
              "      <td>10611</td>\n",
              "    </tr>\n",
              "    <tr>\n",
              "      <th>2007-02-28</th>\n",
              "      <td>9624</td>\n",
              "    </tr>\n",
              "    <tr>\n",
              "      <th>2007-03-31</th>\n",
              "      <td>9997</td>\n",
              "    </tr>\n",
              "    <tr>\n",
              "      <th>2007-04-30</th>\n",
              "      <td>10191</td>\n",
              "    </tr>\n",
              "    <tr>\n",
              "      <th>2007-05-31</th>\n",
              "      <td>10489</td>\n",
              "    </tr>\n",
              "    <tr>\n",
              "      <th>...</th>\n",
              "      <td>...</td>\n",
              "    </tr>\n",
              "    <tr>\n",
              "      <th>2021-10-31</th>\n",
              "      <td>5756</td>\n",
              "    </tr>\n",
              "    <tr>\n",
              "      <th>2021-11-30</th>\n",
              "      <td>5084</td>\n",
              "    </tr>\n",
              "    <tr>\n",
              "      <th>2021-12-31</th>\n",
              "      <td>5802</td>\n",
              "    </tr>\n",
              "    <tr>\n",
              "      <th>2022-01-31</th>\n",
              "      <td>5018</td>\n",
              "    </tr>\n",
              "    <tr>\n",
              "      <th>2022-02-28</th>\n",
              "      <td>4823</td>\n",
              "    </tr>\n",
              "  </tbody>\n",
              "</table>\n",
              "<p>182 rows × 1 columns</p>\n",
              "</div>\n",
              "      <button class=\"colab-df-convert\" onclick=\"convertToInteractive('df-7eb42ea9-0f47-4a60-a57c-648a25f50d64')\"\n",
              "              title=\"Convert this dataframe to an interactive table.\"\n",
              "              style=\"display:none;\">\n",
              "        \n",
              "  <svg xmlns=\"http://www.w3.org/2000/svg\" height=\"24px\"viewBox=\"0 0 24 24\"\n",
              "       width=\"24px\">\n",
              "    <path d=\"M0 0h24v24H0V0z\" fill=\"none\"/>\n",
              "    <path d=\"M18.56 5.44l.94 2.06.94-2.06 2.06-.94-2.06-.94-.94-2.06-.94 2.06-2.06.94zm-11 1L8.5 8.5l.94-2.06 2.06-.94-2.06-.94L8.5 2.5l-.94 2.06-2.06.94zm10 10l.94 2.06.94-2.06 2.06-.94-2.06-.94-.94-2.06-.94 2.06-2.06.94z\"/><path d=\"M17.41 7.96l-1.37-1.37c-.4-.4-.92-.59-1.43-.59-.52 0-1.04.2-1.43.59L10.3 9.45l-7.72 7.72c-.78.78-.78 2.05 0 2.83L4 21.41c.39.39.9.59 1.41.59.51 0 1.02-.2 1.41-.59l7.78-7.78 2.81-2.81c.8-.78.8-2.07 0-2.86zM5.41 20L4 18.59l7.72-7.72 1.47 1.35L5.41 20z\"/>\n",
              "  </svg>\n",
              "      </button>\n",
              "      \n",
              "  <style>\n",
              "    .colab-df-container {\n",
              "      display:flex;\n",
              "      flex-wrap:wrap;\n",
              "      gap: 12px;\n",
              "    }\n",
              "\n",
              "    .colab-df-convert {\n",
              "      background-color: #E8F0FE;\n",
              "      border: none;\n",
              "      border-radius: 50%;\n",
              "      cursor: pointer;\n",
              "      display: none;\n",
              "      fill: #1967D2;\n",
              "      height: 32px;\n",
              "      padding: 0 0 0 0;\n",
              "      width: 32px;\n",
              "    }\n",
              "\n",
              "    .colab-df-convert:hover {\n",
              "      background-color: #E2EBFA;\n",
              "      box-shadow: 0px 1px 2px rgba(60, 64, 67, 0.3), 0px 1px 3px 1px rgba(60, 64, 67, 0.15);\n",
              "      fill: #174EA6;\n",
              "    }\n",
              "\n",
              "    [theme=dark] .colab-df-convert {\n",
              "      background-color: #3B4455;\n",
              "      fill: #D2E3FC;\n",
              "    }\n",
              "\n",
              "    [theme=dark] .colab-df-convert:hover {\n",
              "      background-color: #434B5C;\n",
              "      box-shadow: 0px 1px 3px 1px rgba(0, 0, 0, 0.15);\n",
              "      filter: drop-shadow(0px 1px 2px rgba(0, 0, 0, 0.3));\n",
              "      fill: #FFFFFF;\n",
              "    }\n",
              "  </style>\n",
              "\n",
              "      <script>\n",
              "        const buttonEl =\n",
              "          document.querySelector('#df-7eb42ea9-0f47-4a60-a57c-648a25f50d64 button.colab-df-convert');\n",
              "        buttonEl.style.display =\n",
              "          google.colab.kernel.accessAllowed ? 'block' : 'none';\n",
              "\n",
              "        async function convertToInteractive(key) {\n",
              "          const element = document.querySelector('#df-7eb42ea9-0f47-4a60-a57c-648a25f50d64');\n",
              "          const dataTable =\n",
              "            await google.colab.kernel.invokeFunction('convertToInteractive',\n",
              "                                                     [key], {});\n",
              "          if (!dataTable) return;\n",
              "\n",
              "          const docLinkHtml = 'Like what you see? Visit the ' +\n",
              "            '<a target=\"_blank\" href=https://colab.research.google.com/notebooks/data_table.ipynb>data table notebook</a>'\n",
              "            + ' to learn more about interactive tables.';\n",
              "          element.innerHTML = '';\n",
              "          dataTable['output_type'] = 'display_data';\n",
              "          await google.colab.output.renderOutput(dataTable, element);\n",
              "          const docLink = document.createElement('div');\n",
              "          docLink.innerHTML = docLinkHtml;\n",
              "          element.appendChild(docLink);\n",
              "        }\n",
              "      </script>\n",
              "    </div>\n",
              "  </div>\n",
              "  "
            ]
          },
          "metadata": {},
          "execution_count": 3
        }
      ]
    },
    {
      "cell_type": "code",
      "source": [
        "from statsmodels.tsa.holtwinters import ExponentialSmoothing\n",
        "from sklearn.metrics import mean_absolute_error\n",
        "\n",
        "# Treinando o modelo até dezembro de 2019\n",
        "train_data = df2022AcidentesM.loc[:'2019-12-31']\n",
        "test_data = df2022AcidentesM.loc['2020-01-01':]\n",
        "\n",
        "fitted_model = ExponentialSmoothing(train_data[\"Acidentes\"], trend=\"mul\", seasonal=\"mul\", seasonal_periods=12).fit()\n",
        "\n",
        "test_predictions = fitted_model.forecast(26) # 48 meses\n",
        "\n",
        "\n",
        "# Visualizar nosso modelo de treino e o de teste\n",
        "train_data[\"Acidentes\"].plot(legend=True,label=\"CONJ. TREINAMENTO\",figsize=(20,10), color='blue')\n",
        "test_data[\"Acidentes\"].plot(legend=True,label=\"CONJ. TESTE\", color='green')\n",
        "test_predictions.plot(legend=True,label=\"PREDIÇÃO\", color='red')"
      ],
      "metadata": {
        "colab": {
          "base_uri": "https://localhost:8080/",
          "height": 610
        },
        "id": "uCxJU3p2st-B",
        "outputId": "cb6dd6a8-36a9-48da-975d-6e0f523d0320"
      },
      "execution_count": 15,
      "outputs": [
        {
          "output_type": "execute_result",
          "data": {
            "text/plain": [
              "<matplotlib.axes._subplots.AxesSubplot at 0x7f980b527690>"
            ]
          },
          "metadata": {},
          "execution_count": 15
        },
        {
          "output_type": "display_data",
          "data": {
            "text/plain": [
              "<Figure size 1440x720 with 1 Axes>"
            ],
            "image/png": "[encoded data removed]"
          },
          "metadata": {
            "needs_background": "light"
          }
        }
      ]
    },
    {
      "cell_type": "code",
      "source": [
        "mean_absolute_error(test_data[\"Acidentes\"], test_predictions)"
      ],
      "metadata": {
        "colab": {
          "base_uri": "https://localhost:8080/"
        },
        "id": "qYsGwfFOszfz",
        "outputId": "465d2819-3489-4eaa-dfdb-1d6367f491e9"
      },
      "execution_count": 16,
      "outputs": [
        {
          "output_type": "execute_result",
          "data": {
            "text/plain": [
              "403.04425032316675"
            ]
          },
          "metadata": {},
          "execution_count": 16
        }
      ]
    }
  ]
}